{
 "cells": [
  {
   "cell_type": "code",
   "execution_count": 108,
   "id": "a7478ab2",
   "metadata": {},
   "outputs": [],
   "source": [
    "import pandas as pd\n",
    "import numpy as np\n",
    "import matplotlib.pyplot as plt\n",
    "%matplotlib inline\n",
    "import seaborn as sns\n",
    "import warnings\n",
    "warnings.filterwarnings(\"ignore\")\n",
    "import seaborn as sb"
   ]
  },
  {
   "cell_type": "code",
   "execution_count": 93,
   "id": "902702d6",
   "metadata": {},
   "outputs": [
    {
     "data": {
      "text/html": [
       "<div>\n",
       "<style scoped>\n",
       "    .dataframe tbody tr th:only-of-type {\n",
       "        vertical-align: middle;\n",
       "    }\n",
       "\n",
       "    .dataframe tbody tr th {\n",
       "        vertical-align: top;\n",
       "    }\n",
       "\n",
       "    .dataframe thead th {\n",
       "        text-align: right;\n",
       "    }\n",
       "</style>\n",
       "<table border=\"1\" class=\"dataframe\">\n",
       "  <thead>\n",
       "    <tr style=\"text-align: right;\">\n",
       "      <th></th>\n",
       "      <th>Value</th>\n",
       "    </tr>\n",
       "    <tr>\n",
       "      <th>Date</th>\n",
       "      <th></th>\n",
       "    </tr>\n",
       "  </thead>\n",
       "  <tbody>\n",
       "    <tr>\n",
       "      <th>1970-01-01</th>\n",
       "      <td>35.20</td>\n",
       "    </tr>\n",
       "    <tr>\n",
       "      <th>1970-04-01</th>\n",
       "      <td>35.10</td>\n",
       "    </tr>\n",
       "    <tr>\n",
       "      <th>1970-07-01</th>\n",
       "      <td>35.40</td>\n",
       "    </tr>\n",
       "    <tr>\n",
       "      <th>1970-10-01</th>\n",
       "      <td>36.20</td>\n",
       "    </tr>\n",
       "    <tr>\n",
       "      <th>1971-01-01</th>\n",
       "      <td>37.40</td>\n",
       "    </tr>\n",
       "    <tr>\n",
       "      <th>...</th>\n",
       "      <td>...</td>\n",
       "    </tr>\n",
       "    <tr>\n",
       "      <th>2020-03-09</th>\n",
       "      <td>1672.50</td>\n",
       "    </tr>\n",
       "    <tr>\n",
       "      <th>2020-03-10</th>\n",
       "      <td>1655.70</td>\n",
       "    </tr>\n",
       "    <tr>\n",
       "      <th>2020-03-11</th>\n",
       "      <td>1653.75</td>\n",
       "    </tr>\n",
       "    <tr>\n",
       "      <th>2020-03-12</th>\n",
       "      <td>1570.70</td>\n",
       "    </tr>\n",
       "    <tr>\n",
       "      <th>2020-03-13</th>\n",
       "      <td>1562.80</td>\n",
       "    </tr>\n",
       "  </tbody>\n",
       "</table>\n",
       "<p>10787 rows × 1 columns</p>\n",
       "</div>"
      ],
      "text/plain": [
       "              Value\n",
       "Date               \n",
       "1970-01-01    35.20\n",
       "1970-04-01    35.10\n",
       "1970-07-01    35.40\n",
       "1970-10-01    36.20\n",
       "1971-01-01    37.40\n",
       "...             ...\n",
       "2020-03-09  1672.50\n",
       "2020-03-10  1655.70\n",
       "2020-03-11  1653.75\n",
       "2020-03-12  1570.70\n",
       "2020-03-13  1562.80\n",
       "\n",
       "[10787 rows x 1 columns]"
      ]
     },
     "execution_count": 93,
     "metadata": {},
     "output_type": "execute_result"
    }
   ],
   "source": [
    "data=pd.read_csv('gold_price_data.csv',index_col=0)\n",
    "data"
   ]
  },
  {
   "cell_type": "code",
   "execution_count": 94,
   "id": "4d1e893f",
   "metadata": {},
   "outputs": [
    {
     "name": "stdout",
     "output_type": "stream",
     "text": [
      "<class 'pandas.core.frame.DataFrame'>\n",
      "Index: 10787 entries, 1970-01-01 to 2020-03-13\n",
      "Data columns (total 1 columns):\n",
      " #   Column  Non-Null Count  Dtype  \n",
      "---  ------  --------------  -----  \n",
      " 0   Value   10787 non-null  float64\n",
      "dtypes: float64(1)\n",
      "memory usage: 168.5+ KB\n"
     ]
    }
   ],
   "source": [
    "data.info()"
   ]
  },
  {
   "cell_type": "code",
   "execution_count": 95,
   "id": "28ba8b73",
   "metadata": {},
   "outputs": [
    {
     "data": {
      "text/html": [
       "<div>\n",
       "<style scoped>\n",
       "    .dataframe tbody tr th:only-of-type {\n",
       "        vertical-align: middle;\n",
       "    }\n",
       "\n",
       "    .dataframe tbody tr th {\n",
       "        vertical-align: top;\n",
       "    }\n",
       "\n",
       "    .dataframe thead th {\n",
       "        text-align: right;\n",
       "    }\n",
       "</style>\n",
       "<table border=\"1\" class=\"dataframe\">\n",
       "  <thead>\n",
       "    <tr style=\"text-align: right;\">\n",
       "      <th></th>\n",
       "      <th>Value</th>\n",
       "    </tr>\n",
       "  </thead>\n",
       "  <tbody>\n",
       "    <tr>\n",
       "      <th>count</th>\n",
       "      <td>10787.000000</td>\n",
       "    </tr>\n",
       "    <tr>\n",
       "      <th>mean</th>\n",
       "      <td>653.596634</td>\n",
       "    </tr>\n",
       "    <tr>\n",
       "      <th>std</th>\n",
       "      <td>434.030848</td>\n",
       "    </tr>\n",
       "    <tr>\n",
       "      <th>min</th>\n",
       "      <td>35.100000</td>\n",
       "    </tr>\n",
       "    <tr>\n",
       "      <th>25%</th>\n",
       "      <td>349.200000</td>\n",
       "    </tr>\n",
       "    <tr>\n",
       "      <th>50%</th>\n",
       "      <td>409.350000</td>\n",
       "    </tr>\n",
       "    <tr>\n",
       "      <th>75%</th>\n",
       "      <td>1061.625000</td>\n",
       "    </tr>\n",
       "    <tr>\n",
       "      <th>max</th>\n",
       "      <td>1895.000000</td>\n",
       "    </tr>\n",
       "  </tbody>\n",
       "</table>\n",
       "</div>"
      ],
      "text/plain": [
       "              Value\n",
       "count  10787.000000\n",
       "mean     653.596634\n",
       "std      434.030848\n",
       "min       35.100000\n",
       "25%      349.200000\n",
       "50%      409.350000\n",
       "75%     1061.625000\n",
       "max     1895.000000"
      ]
     },
     "execution_count": 95,
     "metadata": {},
     "output_type": "execute_result"
    }
   ],
   "source": [
    "data.describe()"
   ]
  },
  {
   "cell_type": "code",
   "execution_count": 96,
   "id": "5fb5d72b",
   "metadata": {},
   "outputs": [
    {
     "data": {
      "text/html": [
       "<div>\n",
       "<style scoped>\n",
       "    .dataframe tbody tr th:only-of-type {\n",
       "        vertical-align: middle;\n",
       "    }\n",
       "\n",
       "    .dataframe tbody tr th {\n",
       "        vertical-align: top;\n",
       "    }\n",
       "\n",
       "    .dataframe thead th {\n",
       "        text-align: right;\n",
       "    }\n",
       "</style>\n",
       "<table border=\"1\" class=\"dataframe\">\n",
       "  <thead>\n",
       "    <tr style=\"text-align: right;\">\n",
       "      <th></th>\n",
       "      <th>Value</th>\n",
       "    </tr>\n",
       "  </thead>\n",
       "  <tbody>\n",
       "    <tr>\n",
       "      <th>0</th>\n",
       "      <td>35.20</td>\n",
       "    </tr>\n",
       "    <tr>\n",
       "      <th>1</th>\n",
       "      <td>35.10</td>\n",
       "    </tr>\n",
       "    <tr>\n",
       "      <th>2</th>\n",
       "      <td>35.40</td>\n",
       "    </tr>\n",
       "    <tr>\n",
       "      <th>3</th>\n",
       "      <td>36.20</td>\n",
       "    </tr>\n",
       "    <tr>\n",
       "      <th>4</th>\n",
       "      <td>37.40</td>\n",
       "    </tr>\n",
       "    <tr>\n",
       "      <th>...</th>\n",
       "      <td>...</td>\n",
       "    </tr>\n",
       "    <tr>\n",
       "      <th>10782</th>\n",
       "      <td>1672.50</td>\n",
       "    </tr>\n",
       "    <tr>\n",
       "      <th>10783</th>\n",
       "      <td>1655.70</td>\n",
       "    </tr>\n",
       "    <tr>\n",
       "      <th>10784</th>\n",
       "      <td>1653.75</td>\n",
       "    </tr>\n",
       "    <tr>\n",
       "      <th>10785</th>\n",
       "      <td>1570.70</td>\n",
       "    </tr>\n",
       "    <tr>\n",
       "      <th>10786</th>\n",
       "      <td>1562.80</td>\n",
       "    </tr>\n",
       "  </tbody>\n",
       "</table>\n",
       "<p>10787 rows × 1 columns</p>\n",
       "</div>"
      ],
      "text/plain": [
       "         Value\n",
       "0        35.20\n",
       "1        35.10\n",
       "2        35.40\n",
       "3        36.20\n",
       "4        37.40\n",
       "...        ...\n",
       "10782  1672.50\n",
       "10783  1655.70\n",
       "10784  1653.75\n",
       "10785  1570.70\n",
       "10786  1562.80\n",
       "\n",
       "[10787 rows x 1 columns]"
      ]
     },
     "execution_count": 96,
     "metadata": {},
     "output_type": "execute_result"
    }
   ],
   "source": [
    "data=data.sort_values(by=[\"Date\"],ignore_index=True)\n",
    "data"
   ]
  },
  {
   "cell_type": "code",
   "execution_count": 97,
   "id": "2639df37",
   "metadata": {},
   "outputs": [
    {
     "data": {
      "text/html": [
       "<div>\n",
       "<style scoped>\n",
       "    .dataframe tbody tr th:only-of-type {\n",
       "        vertical-align: middle;\n",
       "    }\n",
       "\n",
       "    .dataframe tbody tr th {\n",
       "        vertical-align: top;\n",
       "    }\n",
       "\n",
       "    .dataframe thead th {\n",
       "        text-align: right;\n",
       "    }\n",
       "</style>\n",
       "<table border=\"1\" class=\"dataframe\">\n",
       "  <thead>\n",
       "    <tr style=\"text-align: right;\">\n",
       "      <th></th>\n",
       "      <th>Value</th>\n",
       "    </tr>\n",
       "  </thead>\n",
       "  <tbody>\n",
       "    <tr>\n",
       "      <th>1135</th>\n",
       "      <td>416.50</td>\n",
       "    </tr>\n",
       "    <tr>\n",
       "      <th>5819</th>\n",
       "      <td>266.70</td>\n",
       "    </tr>\n",
       "    <tr>\n",
       "      <th>1702</th>\n",
       "      <td>323.30</td>\n",
       "    </tr>\n",
       "    <tr>\n",
       "      <th>1842</th>\n",
       "      <td>321.50</td>\n",
       "    </tr>\n",
       "    <tr>\n",
       "      <th>4184</th>\n",
       "      <td>384.70</td>\n",
       "    </tr>\n",
       "    <tr>\n",
       "      <th>5645</th>\n",
       "      <td>289.75</td>\n",
       "    </tr>\n",
       "    <tr>\n",
       "      <th>3837</th>\n",
       "      <td>391.75</td>\n",
       "    </tr>\n",
       "    <tr>\n",
       "      <th>8853</th>\n",
       "      <td>1746.50</td>\n",
       "    </tr>\n",
       "    <tr>\n",
       "      <th>1847</th>\n",
       "      <td>317.40</td>\n",
       "    </tr>\n",
       "    <tr>\n",
       "      <th>71</th>\n",
       "      <td>247.05</td>\n",
       "    </tr>\n",
       "  </tbody>\n",
       "</table>\n",
       "</div>"
      ],
      "text/plain": [
       "        Value\n",
       "1135   416.50\n",
       "5819   266.70\n",
       "1702   323.30\n",
       "1842   321.50\n",
       "4184   384.70\n",
       "5645   289.75\n",
       "3837   391.75\n",
       "8853  1746.50\n",
       "1847   317.40\n",
       "71     247.05"
      ]
     },
     "execution_count": 97,
     "metadata": {},
     "output_type": "execute_result"
    }
   ],
   "source": [
    "data1=data.sample(n=10)\n",
    "data1"
   ]
  },
  {
   "cell_type": "code",
   "execution_count": 98,
   "id": "845d984a",
   "metadata": {},
   "outputs": [],
   "source": [
    "# plt.figure(figsize=(20,10))\n",
    "# # plt.grid()\n",
    "# plt.xlabel(\"Date\")\n",
    "# plt.ylabel(\"Value\")\n",
    "# plt.plot(data[\"Value\"])\n",
    "# plt.title(\"Gold Price\")\n",
    "# plt.xticks(rotation = 90)\n",
    "# plt.show()"
   ]
  },
  {
   "cell_type": "code",
   "execution_count": 99,
   "id": "80d8ceae",
   "metadata": {},
   "outputs": [
    {
     "data": {
      "text/plain": [
       "(array([-2000.,     0.,  2000.,  4000.,  6000.,  8000., 10000., 12000.]),\n",
       " [Text(0, 0, ''),\n",
       "  Text(0, 0, ''),\n",
       "  Text(0, 0, ''),\n",
       "  Text(0, 0, ''),\n",
       "  Text(0, 0, ''),\n",
       "  Text(0, 0, ''),\n",
       "  Text(0, 0, ''),\n",
       "  Text(0, 0, '')])"
      ]
     },
     "execution_count": 99,
     "metadata": {},
     "output_type": "execute_result"
    },
    {
     "data": {
      "image/png": "[encoded data removed]",
      "text/plain": [
       "<Figure size 432x288 with 1 Axes>"
      ]
     },
     "metadata": {
      "needs_background": "light"
     },
     "output_type": "display_data"
    }
   ],
   "source": [
    "data.plot()\n",
    "plt.xticks(rotation = 90)"
   ]
  },
  {
   "cell_type": "code",
   "execution_count": 100,
   "id": "40d9d144",
   "metadata": {},
   "outputs": [
    {
     "data": {
      "text/plain": [
       "8629.6"
      ]
     },
     "execution_count": 100,
     "metadata": {},
     "output_type": "execute_result"
    }
   ],
   "source": [
    "len(data)*0.80"
   ]
  },
  {
   "cell_type": "code",
   "execution_count": 101,
   "id": "06e56c53",
   "metadata": {},
   "outputs": [
    {
     "data": {
      "text/html": [
       "<div>\n",
       "<style scoped>\n",
       "    .dataframe tbody tr th:only-of-type {\n",
       "        vertical-align: middle;\n",
       "    }\n",
       "\n",
       "    .dataframe tbody tr th {\n",
       "        vertical-align: top;\n",
       "    }\n",
       "\n",
       "    .dataframe thead th {\n",
       "        text-align: right;\n",
       "    }\n",
       "</style>\n",
       "<table border=\"1\" class=\"dataframe\">\n",
       "  <thead>\n",
       "    <tr style=\"text-align: right;\">\n",
       "      <th></th>\n",
       "      <th>Value</th>\n",
       "    </tr>\n",
       "  </thead>\n",
       "  <tbody>\n",
       "    <tr>\n",
       "      <th>0</th>\n",
       "      <td>35.2</td>\n",
       "    </tr>\n",
       "    <tr>\n",
       "      <th>1</th>\n",
       "      <td>35.1</td>\n",
       "    </tr>\n",
       "    <tr>\n",
       "      <th>2</th>\n",
       "      <td>35.4</td>\n",
       "    </tr>\n",
       "    <tr>\n",
       "      <th>3</th>\n",
       "      <td>36.2</td>\n",
       "    </tr>\n",
       "    <tr>\n",
       "      <th>4</th>\n",
       "      <td>37.4</td>\n",
       "    </tr>\n",
       "    <tr>\n",
       "      <th>...</th>\n",
       "      <td>...</td>\n",
       "    </tr>\n",
       "    <tr>\n",
       "      <th>8625</th>\n",
       "      <td>1752.0</td>\n",
       "    </tr>\n",
       "    <tr>\n",
       "      <th>8626</th>\n",
       "      <td>1747.0</td>\n",
       "    </tr>\n",
       "    <tr>\n",
       "      <th>8627</th>\n",
       "      <td>1744.0</td>\n",
       "    </tr>\n",
       "    <tr>\n",
       "      <th>8628</th>\n",
       "      <td>1708.0</td>\n",
       "    </tr>\n",
       "    <tr>\n",
       "      <th>8629</th>\n",
       "      <td>1735.5</td>\n",
       "    </tr>\n",
       "  </tbody>\n",
       "</table>\n",
       "<p>8630 rows × 1 columns</p>\n",
       "</div>"
      ],
      "text/plain": [
       "       Value\n",
       "0       35.2\n",
       "1       35.1\n",
       "2       35.4\n",
       "3       36.2\n",
       "4       37.4\n",
       "...      ...\n",
       "8625  1752.0\n",
       "8626  1747.0\n",
       "8627  1744.0\n",
       "8628  1708.0\n",
       "8629  1735.5\n",
       "\n",
       "[8630 rows x 1 columns]"
      ]
     },
     "execution_count": 101,
     "metadata": {},
     "output_type": "execute_result"
    }
   ],
   "source": [
    "Train = data[:8630]\n",
    "Test = data[8631:]\n",
    "Train"
   ]
  },
  {
   "cell_type": "code",
   "execution_count": 102,
   "id": "b459e067",
   "metadata": {},
   "outputs": [
    {
     "data": {
      "text/html": [
       "<div>\n",
       "<style scoped>\n",
       "    .dataframe tbody tr th:only-of-type {\n",
       "        vertical-align: middle;\n",
       "    }\n",
       "\n",
       "    .dataframe tbody tr th {\n",
       "        vertical-align: top;\n",
       "    }\n",
       "\n",
       "    .dataframe thead th {\n",
       "        text-align: right;\n",
       "    }\n",
       "</style>\n",
       "<table border=\"1\" class=\"dataframe\">\n",
       "  <thead>\n",
       "    <tr style=\"text-align: right;\">\n",
       "      <th></th>\n",
       "      <th>Value</th>\n",
       "    </tr>\n",
       "  </thead>\n",
       "  <tbody>\n",
       "    <tr>\n",
       "      <th>8631</th>\n",
       "      <td>1709.00</td>\n",
       "    </tr>\n",
       "    <tr>\n",
       "      <th>8632</th>\n",
       "      <td>1659.50</td>\n",
       "    </tr>\n",
       "    <tr>\n",
       "      <th>8633</th>\n",
       "      <td>1672.50</td>\n",
       "    </tr>\n",
       "    <tr>\n",
       "      <th>8634</th>\n",
       "      <td>1603.00</td>\n",
       "    </tr>\n",
       "    <tr>\n",
       "      <th>8635</th>\n",
       "      <td>1574.00</td>\n",
       "    </tr>\n",
       "    <tr>\n",
       "      <th>...</th>\n",
       "      <td>...</td>\n",
       "    </tr>\n",
       "    <tr>\n",
       "      <th>10782</th>\n",
       "      <td>1672.50</td>\n",
       "    </tr>\n",
       "    <tr>\n",
       "      <th>10783</th>\n",
       "      <td>1655.70</td>\n",
       "    </tr>\n",
       "    <tr>\n",
       "      <th>10784</th>\n",
       "      <td>1653.75</td>\n",
       "    </tr>\n",
       "    <tr>\n",
       "      <th>10785</th>\n",
       "      <td>1570.70</td>\n",
       "    </tr>\n",
       "    <tr>\n",
       "      <th>10786</th>\n",
       "      <td>1562.80</td>\n",
       "    </tr>\n",
       "  </tbody>\n",
       "</table>\n",
       "<p>2156 rows × 1 columns</p>\n",
       "</div>"
      ],
      "text/plain": [
       "         Value\n",
       "8631   1709.00\n",
       "8632   1659.50\n",
       "8633   1672.50\n",
       "8634   1603.00\n",
       "8635   1574.00\n",
       "...        ...\n",
       "10782  1672.50\n",
       "10783  1655.70\n",
       "10784  1653.75\n",
       "10785  1570.70\n",
       "10786  1562.80\n",
       "\n",
       "[2156 rows x 1 columns]"
      ]
     },
     "execution_count": 102,
     "metadata": {},
     "output_type": "execute_result"
    }
   ],
   "source": [
    "Test"
   ]
  },
  {
   "cell_type": "code",
   "execution_count": 103,
   "id": "1a4e028c",
   "metadata": {},
   "outputs": [],
   "source": [
    "#checking stationary"
   ]
  },
  {
   "cell_type": "code",
   "execution_count": 104,
   "id": "ac328d72",
   "metadata": {},
   "outputs": [],
   "source": [
    "#augmented dickey fuller test #adfuller\n",
    "from statsmodels.tsa.stattools import adfuller\n",
    "from statsmodels.tsa.seasonal import seasonal_decompose\n",
    "from statsmodels.tsa.arima_model import ARIMA\n",
    "from statsmodels.graphics.tsaplots import plot_acf,plot_pacf"
   ]
  },
  {
   "cell_type": "code",
   "execution_count": 11,
   "id": "993ee496",
   "metadata": {},
   "outputs": [],
   "source": [
    "# result=seasonal_decompose(data[\"Value\"],model=\"multiplicative\",freq=30)\n",
    "# fig=plt.figure()\n",
    "# fig=result.plot()\n",
    "# fig.set_size_inches(16,9)"
   ]
  },
  {
   "cell_type": "code",
   "execution_count": 25,
   "id": "ea1930b8",
   "metadata": {},
   "outputs": [],
   "source": [
    "from statsmodels.tsa.stattools import adfuller"
   ]
  },
  {
   "cell_type": "code",
   "execution_count": 30,
   "id": "57f9aa3c",
   "metadata": {},
   "outputs": [],
   "source": [
    "dftest=adfuller(Train)"
   ]
  },
  {
   "cell_type": "code",
   "execution_count": 31,
   "id": "d86977da",
   "metadata": {},
   "outputs": [
    {
     "name": "stdout",
     "output_type": "stream",
     "text": [
      "(3.414193932596559, 1.0, 37, 8592, {'1%': -3.4311113192218157, '5%': -2.86187645173724, '10%': -2.566949088330078}, 59460.01255798764)\n"
     ]
    }
   ],
   "source": [
    "print(dftest)"
   ]
  },
  {
   "cell_type": "code",
   "execution_count": 32,
   "id": "f493eed1",
   "metadata": {},
   "outputs": [],
   "source": [
    "dfout=pd.DataFrame(dftest[0:4],index=[\"Test Statistics\",\"p-value\",\"Lag\",\"Number of observations used\"])"
   ]
  },
  {
   "cell_type": "code",
   "execution_count": 33,
   "id": "bf6c7983",
   "metadata": {},
   "outputs": [
    {
     "data": {
      "text/html": [
       "<div>\n",
       "<style scoped>\n",
       "    .dataframe tbody tr th:only-of-type {\n",
       "        vertical-align: middle;\n",
       "    }\n",
       "\n",
       "    .dataframe tbody tr th {\n",
       "        vertical-align: top;\n",
       "    }\n",
       "\n",
       "    .dataframe thead th {\n",
       "        text-align: right;\n",
       "    }\n",
       "</style>\n",
       "<table border=\"1\" class=\"dataframe\">\n",
       "  <thead>\n",
       "    <tr style=\"text-align: right;\">\n",
       "      <th></th>\n",
       "      <th>0</th>\n",
       "    </tr>\n",
       "  </thead>\n",
       "  <tbody>\n",
       "    <tr>\n",
       "      <th>Test Statistics</th>\n",
       "      <td>3.414194</td>\n",
       "    </tr>\n",
       "    <tr>\n",
       "      <th>p-value</th>\n",
       "      <td>1.000000</td>\n",
       "    </tr>\n",
       "    <tr>\n",
       "      <th>Lag</th>\n",
       "      <td>37.000000</td>\n",
       "    </tr>\n",
       "    <tr>\n",
       "      <th>Number of observations used</th>\n",
       "      <td>8592.000000</td>\n",
       "    </tr>\n",
       "  </tbody>\n",
       "</table>\n",
       "</div>"
      ],
      "text/plain": [
       "                                       0\n",
       "Test Statistics                 3.414194\n",
       "p-value                         1.000000\n",
       "Lag                            37.000000\n",
       "Number of observations used  8592.000000"
      ]
     },
     "execution_count": 33,
     "metadata": {},
     "output_type": "execute_result"
    }
   ],
   "source": [
    "dfout"
   ]
  },
  {
   "cell_type": "code",
   "execution_count": 105,
   "id": "f0338603",
   "metadata": {},
   "outputs": [],
   "source": [
    "Train_s1=Train- Train.shift(1)"
   ]
  },
  {
   "cell_type": "code",
   "execution_count": 106,
   "id": "7c208568",
   "metadata": {},
   "outputs": [
    {
     "data": {
      "text/html": [
       "<div>\n",
       "<style scoped>\n",
       "    .dataframe tbody tr th:only-of-type {\n",
       "        vertical-align: middle;\n",
       "    }\n",
       "\n",
       "    .dataframe tbody tr th {\n",
       "        vertical-align: top;\n",
       "    }\n",
       "\n",
       "    .dataframe thead th {\n",
       "        text-align: right;\n",
       "    }\n",
       "</style>\n",
       "<table border=\"1\" class=\"dataframe\">\n",
       "  <thead>\n",
       "    <tr style=\"text-align: right;\">\n",
       "      <th></th>\n",
       "      <th>Value</th>\n",
       "    </tr>\n",
       "  </thead>\n",
       "  <tbody>\n",
       "    <tr>\n",
       "      <th>0</th>\n",
       "      <td>NaN</td>\n",
       "    </tr>\n",
       "    <tr>\n",
       "      <th>1</th>\n",
       "      <td>-0.1</td>\n",
       "    </tr>\n",
       "    <tr>\n",
       "      <th>2</th>\n",
       "      <td>0.3</td>\n",
       "    </tr>\n",
       "    <tr>\n",
       "      <th>3</th>\n",
       "      <td>0.8</td>\n",
       "    </tr>\n",
       "    <tr>\n",
       "      <th>4</th>\n",
       "      <td>1.2</td>\n",
       "    </tr>\n",
       "    <tr>\n",
       "      <th>...</th>\n",
       "      <td>...</td>\n",
       "    </tr>\n",
       "    <tr>\n",
       "      <th>8625</th>\n",
       "      <td>6.0</td>\n",
       "    </tr>\n",
       "    <tr>\n",
       "      <th>8626</th>\n",
       "      <td>-5.0</td>\n",
       "    </tr>\n",
       "    <tr>\n",
       "      <th>8627</th>\n",
       "      <td>-3.0</td>\n",
       "    </tr>\n",
       "    <tr>\n",
       "      <th>8628</th>\n",
       "      <td>-36.0</td>\n",
       "    </tr>\n",
       "    <tr>\n",
       "      <th>8629</th>\n",
       "      <td>27.5</td>\n",
       "    </tr>\n",
       "  </tbody>\n",
       "</table>\n",
       "<p>8630 rows × 1 columns</p>\n",
       "</div>"
      ],
      "text/plain": [
       "      Value\n",
       "0       NaN\n",
       "1      -0.1\n",
       "2       0.3\n",
       "3       0.8\n",
       "4       1.2\n",
       "...     ...\n",
       "8625    6.0\n",
       "8626   -5.0\n",
       "8627   -3.0\n",
       "8628  -36.0\n",
       "8629   27.5\n",
       "\n",
       "[8630 rows x 1 columns]"
      ]
     },
     "execution_count": 106,
     "metadata": {},
     "output_type": "execute_result"
    }
   ],
   "source": [
    "Train_s1"
   ]
  },
  {
   "cell_type": "code",
   "execution_count": 20,
   "id": "b1997a9f",
   "metadata": {},
   "outputs": [],
   "source": [
    "# plt.figure(figsize=(12,6))\n",
    "# plt.grid(True)\n",
    "# plt.xlabel(\"Date\")\n",
    "# plt.ylabel(\"S1\")\n",
    "# plt.plot(data[\"S1\"])\n",
    "# plt.title(\"Gold_New. price\")\n",
    "# plt.show()"
   ]
  },
  {
   "cell_type": "code",
   "execution_count": 21,
   "id": "21972abc",
   "metadata": {},
   "outputs": [],
   "source": [
    "#integrated -d is one of the term in ARIMA\n",
    "#ARIMA= Autoregressive integrated moving average\n",
    "#Autoregressive p-AR\n",
    "#integrated d-I\n",
    "#moving average -q=ma"
   ]
  },
  {
   "cell_type": "code",
   "execution_count": 19,
   "id": "50581c25",
   "metadata": {},
   "outputs": [
    {
     "data": {
      "text/plain": [
       "Value    0\n",
       "S1       0\n",
       "dtype: int64"
      ]
     },
     "execution_count": 19,
     "metadata": {},
     "output_type": "execute_result"
    }
   ],
   "source": [
    "data=data.dropna()\n",
    "data.isnull().sum()"
   ]
  },
  {
   "cell_type": "code",
   "execution_count": 38,
   "id": "70e8ef31",
   "metadata": {},
   "outputs": [],
   "source": [
    "dftest=adfuller(Train_s1[1:],autolag=\"AIC\")"
   ]
  },
  {
   "cell_type": "code",
   "execution_count": 39,
   "id": "297c87ec",
   "metadata": {},
   "outputs": [
    {
     "name": "stdout",
     "output_type": "stream",
     "text": [
      "(-17.088743249569664, 7.616891723038092e-30, 36, 8592, {'1%': -3.4311113192218157, '5%': -2.86187645173724, '10%': -2.566949088330078}, 59463.66926455796)\n"
     ]
    }
   ],
   "source": [
    "print(dftest)"
   ]
  },
  {
   "cell_type": "code",
   "execution_count": 40,
   "id": "20648d27",
   "metadata": {},
   "outputs": [],
   "source": [
    "dfout=pd.DataFrame(dftest[0:4],index=[\"Test Statistics\",\"p-value\",\"Lag\",\"Number of observations used\"])"
   ]
  },
  {
   "cell_type": "code",
   "execution_count": 41,
   "id": "b88df34c",
   "metadata": {},
   "outputs": [
    {
     "data": {
      "text/html": [
       "<div>\n",
       "<style scoped>\n",
       "    .dataframe tbody tr th:only-of-type {\n",
       "        vertical-align: middle;\n",
       "    }\n",
       "\n",
       "    .dataframe tbody tr th {\n",
       "        vertical-align: top;\n",
       "    }\n",
       "\n",
       "    .dataframe thead th {\n",
       "        text-align: right;\n",
       "    }\n",
       "</style>\n",
       "<table border=\"1\" class=\"dataframe\">\n",
       "  <thead>\n",
       "    <tr style=\"text-align: right;\">\n",
       "      <th></th>\n",
       "      <th>0</th>\n",
       "    </tr>\n",
       "  </thead>\n",
       "  <tbody>\n",
       "    <tr>\n",
       "      <th>Test Statistics</th>\n",
       "      <td>-1.708874e+01</td>\n",
       "    </tr>\n",
       "    <tr>\n",
       "      <th>p-value</th>\n",
       "      <td>7.616892e-30</td>\n",
       "    </tr>\n",
       "    <tr>\n",
       "      <th>Lag</th>\n",
       "      <td>3.600000e+01</td>\n",
       "    </tr>\n",
       "    <tr>\n",
       "      <th>Number of observations used</th>\n",
       "      <td>8.592000e+03</td>\n",
       "    </tr>\n",
       "  </tbody>\n",
       "</table>\n",
       "</div>"
      ],
      "text/plain": [
       "                                        0\n",
       "Test Statistics             -1.708874e+01\n",
       "p-value                      7.616892e-30\n",
       "Lag                          3.600000e+01\n",
       "Number of observations used  8.592000e+03"
      ]
     },
     "execution_count": 41,
     "metadata": {},
     "output_type": "execute_result"
    }
   ],
   "source": [
    "dfout"
   ]
  },
  {
   "cell_type": "code",
   "execution_count": 42,
   "id": "efe9a7f8",
   "metadata": {},
   "outputs": [],
   "source": [
    "#from pmdarima.arima import auto_arima\n",
    "from statsmodels.graphics.tsaplots import plot_acf,plot_pacf"
   ]
  },
  {
   "cell_type": "code",
   "execution_count": 43,
   "id": "30399e68",
   "metadata": {},
   "outputs": [],
   "source": [
    "#ACF: In simple term, it describes "
   ]
  },
  {
   "cell_type": "code",
   "execution_count": 45,
   "id": "cab8f19b",
   "metadata": {},
   "outputs": [
    {
     "data": {
      "image/png": "[encoded data removed]",
      "text/plain": [
       "<Figure size 432x288 with 1 Axes>"
      ]
     },
     "metadata": {
      "needs_background": "light"
     },
     "output_type": "display_data"
    },
    {
     "data": {
      "image/png": "[encoded data removed]",
      "text/plain": [
       "<Figure size 432x288 with 1 Axes>"
      ]
     },
     "metadata": {
      "needs_background": "light"
     },
     "output_type": "display_data"
    }
   ],
   "source": [
    "plot_acf(Train_s1[1:]); #for MA q=0\n",
    "plot_pacf(Train_s1[1:]); #for MA p=0"
   ]
  },
  {
   "cell_type": "code",
   "execution_count": 46,
   "id": "89ac4423",
   "metadata": {},
   "outputs": [
    {
     "name": "stdout",
     "output_type": "stream",
     "text": [
      "59941.41134677979\n"
     ]
    }
   ],
   "source": [
    "model_arima =ARIMA(Train,order=(3,1,3))\n",
    "model_arima_fit= model_arima.fit()\n",
    "print(model_arima_fit.aic)"
   ]
  },
  {
   "cell_type": "code",
   "execution_count": 47,
   "id": "850dc0d2",
   "metadata": {},
   "outputs": [
    {
     "data": {
      "text/html": [
       "<table class=\"simpletable\">\n",
       "<caption>ARIMA Model Results</caption>\n",
       "<tr>\n",
       "  <th>Dep. Variable:</th>      <td>D.Value</td>     <th>  No. Observations:  </th>    <td>8629</td>   \n",
       "</tr>\n",
       "<tr>\n",
       "  <th>Model:</th>          <td>ARIMA(3, 1, 3)</td>  <th>  Log Likelihood     </th> <td>-29962.706</td>\n",
       "</tr>\n",
       "<tr>\n",
       "  <th>Method:</th>             <td>css-mle</td>     <th>  S.D. of innovations</th>    <td>7.794</td>  \n",
       "</tr>\n",
       "<tr>\n",
       "  <th>Date:</th>          <td>Sun, 13 Jun 2021</td> <th>  AIC                </th>  <td>59941.411</td>\n",
       "</tr>\n",
       "<tr>\n",
       "  <th>Time:</th>              <td>19:53:21</td>     <th>  BIC                </th>  <td>59997.914</td>\n",
       "</tr>\n",
       "<tr>\n",
       "  <th>Sample:</th>                <td>1</td>        <th>  HQIC               </th>  <td>59960.678</td>\n",
       "</tr>\n",
       "<tr>\n",
       "  <th></th>                       <td> </td>        <th>                     </th>      <td> </td>    \n",
       "</tr>\n",
       "</table>\n",
       "<table class=\"simpletable\">\n",
       "<tr>\n",
       "        <td></td>           <th>coef</th>     <th>std err</th>      <th>z</th>      <th>P>|z|</th>  <th>[0.025</th>    <th>0.975]</th>  \n",
       "</tr>\n",
       "<tr>\n",
       "  <th>const</th>         <td>    0.1970</td> <td>    0.083</td> <td>    2.360</td> <td> 0.018</td> <td>    0.033</td> <td>    0.361</td>\n",
       "</tr>\n",
       "<tr>\n",
       "  <th>ar.L1.D.Value</th> <td>   -0.3715</td> <td>    0.029</td> <td>  -12.654</td> <td> 0.000</td> <td>   -0.429</td> <td>   -0.314</td>\n",
       "</tr>\n",
       "<tr>\n",
       "  <th>ar.L2.D.Value</th> <td>   -0.3219</td> <td>    0.031</td> <td>  -10.339</td> <td> 0.000</td> <td>   -0.383</td> <td>   -0.261</td>\n",
       "</tr>\n",
       "<tr>\n",
       "  <th>ar.L3.D.Value</th> <td>   -0.8491</td> <td>    0.036</td> <td>  -23.458</td> <td> 0.000</td> <td>   -0.920</td> <td>   -0.778</td>\n",
       "</tr>\n",
       "<tr>\n",
       "  <th>ma.L1.D.Value</th> <td>    0.3470</td> <td>    0.025</td> <td>   13.703</td> <td> 0.000</td> <td>    0.297</td> <td>    0.397</td>\n",
       "</tr>\n",
       "<tr>\n",
       "  <th>ma.L2.D.Value</th> <td>    0.3017</td> <td>    0.030</td> <td>   10.225</td> <td> 0.000</td> <td>    0.244</td> <td>    0.359</td>\n",
       "</tr>\n",
       "<tr>\n",
       "  <th>ma.L3.D.Value</th> <td>    0.8815</td> <td>    0.033</td> <td>   26.801</td> <td> 0.000</td> <td>    0.817</td> <td>    0.946</td>\n",
       "</tr>\n",
       "</table>\n",
       "<table class=\"simpletable\">\n",
       "<caption>Roots</caption>\n",
       "<tr>\n",
       "    <td></td>   <th>            Real</th>  <th>         Imaginary</th> <th>         Modulus</th>  <th>        Frequency</th>\n",
       "</tr>\n",
       "<tr>\n",
       "  <th>AR.1</th> <td>          -1.0427</td> <td>          -0.0000j</td> <td>           1.0427</td> <td>          -0.5000</td>\n",
       "</tr>\n",
       "<tr>\n",
       "  <th>AR.2</th> <td>           0.3318</td> <td>          -1.0096j</td> <td>           1.0628</td> <td>          -0.1995</td>\n",
       "</tr>\n",
       "<tr>\n",
       "  <th>AR.3</th> <td>           0.3318</td> <td>          +1.0096j</td> <td>           1.0628</td> <td>           0.1995</td>\n",
       "</tr>\n",
       "<tr>\n",
       "  <th>MA.1</th> <td>          -1.0298</td> <td>          -0.0000j</td> <td>           1.0298</td> <td>          -0.5000</td>\n",
       "</tr>\n",
       "<tr>\n",
       "  <th>MA.2</th> <td>           0.3438</td> <td>          -0.9917j</td> <td>           1.0496</td> <td>          -0.1969</td>\n",
       "</tr>\n",
       "<tr>\n",
       "  <th>MA.3</th> <td>           0.3438</td> <td>          +0.9917j</td> <td>           1.0496</td> <td>           0.1969</td>\n",
       "</tr>\n",
       "</table>"
      ],
      "text/plain": [
       "<class 'statsmodels.iolib.summary.Summary'>\n",
       "\"\"\"\n",
       "                             ARIMA Model Results                              \n",
       "==============================================================================\n",
       "Dep. Variable:                D.Value   No. Observations:                 8629\n",
       "Model:                 ARIMA(3, 1, 3)   Log Likelihood              -29962.706\n",
       "Method:                       css-mle   S.D. of innovations              7.794\n",
       "Date:                Sun, 13 Jun 2021   AIC                          59941.411\n",
       "Time:                        19:53:21   BIC                          59997.914\n",
       "Sample:                             1   HQIC                         59960.678\n",
       "                                                                              \n",
       "=================================================================================\n",
       "                    coef    std err          z      P>|z|      [0.025      0.975]\n",
       "---------------------------------------------------------------------------------\n",
       "const             0.1970      0.083      2.360      0.018       0.033       0.361\n",
       "ar.L1.D.Value    -0.3715      0.029    -12.654      0.000      -0.429      -0.314\n",
       "ar.L2.D.Value    -0.3219      0.031    -10.339      0.000      -0.383      -0.261\n",
       "ar.L3.D.Value    -0.8491      0.036    -23.458      0.000      -0.920      -0.778\n",
       "ma.L1.D.Value     0.3470      0.025     13.703      0.000       0.297       0.397\n",
       "ma.L2.D.Value     0.3017      0.030     10.225      0.000       0.244       0.359\n",
       "ma.L3.D.Value     0.8815      0.033     26.801      0.000       0.817       0.946\n",
       "                                    Roots                                    \n",
       "=============================================================================\n",
       "                  Real          Imaginary           Modulus         Frequency\n",
       "-----------------------------------------------------------------------------\n",
       "AR.1           -1.0427           -0.0000j            1.0427           -0.5000\n",
       "AR.2            0.3318           -1.0096j            1.0628           -0.1995\n",
       "AR.3            0.3318           +1.0096j            1.0628            0.1995\n",
       "MA.1           -1.0298           -0.0000j            1.0298           -0.5000\n",
       "MA.2            0.3438           -0.9917j            1.0496           -0.1969\n",
       "MA.3            0.3438           +0.9917j            1.0496            0.1969\n",
       "-----------------------------------------------------------------------------\n",
       "\"\"\""
      ]
     },
     "execution_count": 47,
     "metadata": {},
     "output_type": "execute_result"
    }
   ],
   "source": [
    "model_arima_fit.summary()"
   ]
  },
  {
   "cell_type": "code",
   "execution_count": 49,
   "id": "db7d41dd",
   "metadata": {},
   "outputs": [
    {
     "data": {
      "image/png": "[encoded data removed]",
      "text/plain": [
       "<Figure size 432x288 with 1 Axes>"
      ]
     },
     "metadata": {
      "needs_background": "light"
     },
     "output_type": "display_data"
    }
   ],
   "source": [
    "plot_acf(model_arima_fit.resid);"
   ]
  },
  {
   "cell_type": "code",
   "execution_count": 109,
   "id": "403dda86",
   "metadata": {},
   "outputs": [
    {
     "data": {
      "text/plain": [
       "<seaborn.axisgrid.FacetGrid at 0x24c2403c790>"
      ]
     },
     "execution_count": 109,
     "metadata": {},
     "output_type": "execute_result"
    },
    {
     "data": {
      "image/png": "[encoded data removed]",
      "text/plain": [
       "<Figure size 360x360 with 1 Axes>"
      ]
     },
     "metadata": {
      "needs_background": "light"
     },
     "output_type": "display_data"
    }
   ],
   "source": [
    "sb.displot(model_arima_fit.resid)"
   ]
  },
  {
   "cell_type": "code",
   "execution_count": 64,
   "id": "35c50398",
   "metadata": {},
   "outputs": [
    {
     "data": {
      "text/plain": [
       "[<matplotlib.lines.Line2D at 0x24c2453fac0>]"
      ]
     },
     "execution_count": 64,
     "metadata": {},
     "output_type": "execute_result"
    },
    {
     "data": {
      "image/png": "[encoded data removed]",
      "text/plain": [
       "<Figure size 432x288 with 1 Axes>"
      ]
     },
     "metadata": {
      "needs_background": "light"
     },
     "output_type": "display_data"
    }
   ],
   "source": [
    "plt.plot(model_arima_fit.predict()[8500:],color='red')\n",
    "plt.plot(Train_s1[8500:])"
   ]
  },
  {
   "cell_type": "code",
   "execution_count": 82,
   "id": "fbafb590",
   "metadata": {},
   "outputs": [
    {
     "data": {
      "text/plain": [
       "[<matplotlib.lines.Line2D at 0x24c25501730>]"
      ]
     },
     "execution_count": 82,
     "metadata": {},
     "output_type": "execute_result"
    },
    {
     "data": {
      "image/png": "[encoded data removed]",
      "text/plain": [
       "<Figure size 432x288 with 1 Axes>"
      ]
     },
     "metadata": {
      "needs_background": "light"
     },
     "output_type": "display_data"
    }
   ],
   "source": [
    "plt.plot(model_arima_fit.forecast(steps=2156)[0],color='red')\n",
    "plt.plot(np.array(Test))"
   ]
  },
  {
   "cell_type": "code",
   "execution_count": 83,
   "id": "ad3ff72c",
   "metadata": {},
   "outputs": [],
   "source": [
    "import sklearn"
   ]
  },
  {
   "cell_type": "code",
   "execution_count": 86,
   "id": "18696f94",
   "metadata": {},
   "outputs": [],
   "source": [
    "from sklearn.metrics import mean_squared_error as mse"
   ]
  },
  {
   "cell_type": "code",
   "execution_count": 87,
   "id": "60e804aa",
   "metadata": {},
   "outputs": [],
   "source": [
    "import math"
   ]
  },
  {
   "cell_type": "code",
   "execution_count": 88,
   "id": "86e72bc6",
   "metadata": {},
   "outputs": [
    {
     "data": {
      "text/plain": [
       "652.5002863938882"
      ]
     },
     "execution_count": 88,
     "metadata": {},
     "output_type": "execute_result"
    }
   ],
   "source": [
    "math.sqrt(mse(np.array(Test),model_arima_fit.forecast(steps=2156)[0]))"
   ]
  },
  {
   "cell_type": "code",
   "execution_count": 90,
   "id": "8b8a98c1",
   "metadata": {},
   "outputs": [
    {
     "data": {
      "text/plain": [
       "<AxesSubplot:>"
      ]
     },
     "execution_count": 90,
     "metadata": {},
     "output_type": "execute_result"
    },
    {
     "data": {
      "image/png": "[encoded data removed]",
      "text/plain": [
       "<Figure size 864x576 with 1 Axes>"
      ]
     },
     "metadata": {
      "needs_background": "light"
     },
     "output_type": "display_data"
    }
   ],
   "source": [
    "## data['forecast']=model_arima_fit.forecast(steps=10787)[0]\n",
    "## data[['Value','forecast']].plot(figsize=(12,8))"
   ]
  },
  {
   "cell_type": "code",
   "execution_count": 32,
   "id": "d63fb9c6",
   "metadata": {},
   "outputs": [],
   "source": [
    "# data['forecast']=model_arima_fit.predict(start=90,end=10000,dynamic=True)\n",
    "# data[['Value','forecast']].plot(figsize=(12,8)) "
   ]
  },
  {
   "cell_type": "code",
   "execution_count": 39,
   "id": "baf34b74",
   "metadata": {},
   "outputs": [
    {
     "data": {
      "text/plain": [
       "array([1564.77513112, 1565.06192133, 1565.16374689, 1565.30304736,\n",
       "       1565.44573998, 1565.58760961, 1565.72941871, 1565.87124571,\n",
       "       1566.01307376, 1566.15490141, 1566.29672905, 1566.4385567 ,\n",
       "       1566.58038434, 1566.72221199, 1566.86403964])"
      ]
     },
     "execution_count": 39,
     "metadata": {},
     "output_type": "execute_result"
    }
   ],
   "source": [
    "perdictions= model_arima_fit.forecast(steps=15)[0]\n",
    "perdictions"
   ]
  },
  {
   "cell_type": "markdown",
   "id": "a13c448d",
   "metadata": {},
   "source": [
    "---"
   ]
  },
  {
   "cell_type": "markdown",
   "id": "bcad4995",
   "metadata": {},
   "source": [
    "-----"
   ]
  },
  {
   "cell_type": "code",
   "execution_count": 34,
   "id": "ce3f5999",
   "metadata": {},
   "outputs": [],
   "source": [
    "from pmdarima.arima import auto_arima"
   ]
  },
  {
   "cell_type": "code",
   "execution_count": 38,
   "id": "e4cafd50",
   "metadata": {},
   "outputs": [
    {
     "name": "stdout",
     "output_type": "stream",
     "text": [
      "Performing stepwise search to minimize aic\n",
      " ARIMA(0,1,0)(0,0,0)[0] intercept   : AIC=78083.955, Time=0.44 sec\n",
      " ARIMA(1,1,0)(0,0,0)[0] intercept   : AIC=78084.379, Time=0.90 sec\n",
      " ARIMA(0,1,1)(0,0,0)[0] intercept   : AIC=78084.314, Time=1.01 sec\n",
      " ARIMA(0,1,0)(0,0,0)[0]             : AIC=78084.607, Time=0.29 sec\n",
      " ARIMA(1,1,1)(0,0,0)[0] intercept   : AIC=78082.041, Time=6.48 sec\n",
      " ARIMA(2,1,1)(0,0,0)[0] intercept   : AIC=78074.887, Time=9.69 sec\n",
      " ARIMA(2,1,0)(0,0,0)[0] intercept   : AIC=78081.730, Time=1.89 sec\n",
      " ARIMA(3,1,1)(0,0,0)[0] intercept   : AIC=78076.537, Time=10.33 sec\n",
      " ARIMA(2,1,2)(0,0,0)[0] intercept   : AIC=78042.113, Time=16.66 sec\n",
      " ARIMA(1,1,2)(0,0,0)[0] intercept   : AIC=78074.952, Time=7.04 sec\n",
      " ARIMA(3,1,2)(0,0,0)[0] intercept   : AIC=78043.625, Time=25.42 sec\n",
      " ARIMA(2,1,3)(0,0,0)[0] intercept   : AIC=78077.407, Time=21.80 sec\n",
      " ARIMA(1,1,3)(0,0,0)[0] intercept   : AIC=78076.465, Time=10.15 sec\n",
      " ARIMA(3,1,3)(0,0,0)[0] intercept   : AIC=78081.542, Time=14.03 sec\n",
      " ARIMA(2,1,2)(0,0,0)[0]             : AIC=78042.866, Time=10.71 sec\n",
      "\n",
      "Best model:  ARIMA(2,1,2)(0,0,0)[0] intercept\n",
      "Total fit time: 136.913 seconds\n"
     ]
    }
   ],
   "source": [
    "model =auto_arima(data.Value, start_p=0, start_q=0,\n",
    "                      test='adf',       # use adftest to find optimal 'd'\n",
    "                      max_p=3, max_q=3, # maximum p and q\n",
    "                      m=1,              # frequency of series\n",
    "                      d=None,           # let model determine 'd'\n",
    "                      seasonal=False,   # No Seasonality\n",
    "                      start_P=0, \n",
    "                      D=0, \n",
    "                      trace=True,\n",
    "                      error_action='ignore',  \n",
    "                      suppress_warnings=True, \n",
    "                      stepwise=True)"
   ]
  },
  {
   "cell_type": "code",
   "execution_count": 36,
   "id": "90bb2d60",
   "metadata": {},
   "outputs": [
    {
     "data": {
      "image/png": "[encoded data removed]",
      "text/plain": [
       "<Figure size 1440x720 with 4 Axes>"
      ]
     },
     "metadata": {
      "needs_background": "light"
     },
     "output_type": "display_data"
    }
   ],
   "source": [
    "model.plot_diagnostics(figsize=(20,10))\n",
    "plt.show()"
   ]
  },
  {
   "cell_type": "code",
   "execution_count": null,
   "id": "3f572e0b",
   "metadata": {},
   "outputs": [],
   "source": []
  },
  {
   "cell_type": "code",
   "execution_count": null,
   "id": "badd1b1d",
   "metadata": {},
   "outputs": [],
   "source": []
  },
  {
   "cell_type": "code",
   "execution_count": null,
   "id": "271e714a",
   "metadata": {},
   "outputs": [],
   "source": []
  },
  {
   "cell_type": "code",
   "execution_count": null,
   "id": "92bfe2d4",
   "metadata": {},
   "outputs": [],
   "source": []
  },
  {
   "cell_type": "code",
   "execution_count": null,
   "id": "ce4785d5",
   "metadata": {},
   "outputs": [],
   "source": []
  },
  {
   "cell_type": "code",
   "execution_count": null,
   "id": "7248b040",
   "metadata": {},
   "outputs": [],
   "source": []
  },
  {
   "cell_type": "code",
   "execution_count": null,
   "id": "a7a00841",
   "metadata": {},
   "outputs": [],
   "source": []
  },
  {
   "cell_type": "code",
   "execution_count": null,
   "id": "2634d7ee",
   "metadata": {},
   "outputs": [],
   "source": []
  },
  {
   "cell_type": "code",
   "execution_count": null,
   "id": "7d1e1a2a",
   "metadata": {},
   "outputs": [],
   "source": []
  },
  {
   "cell_type": "code",
   "execution_count": null,
   "id": "e5e6a338",
   "metadata": {},
   "outputs": [],
   "source": []
  },
  {
   "cell_type": "code",
   "execution_count": null,
   "id": "e2a65454",
   "metadata": {},
   "outputs": [],
   "source": []
  }
 ],
 "metadata": {
  "kernelspec": {
   "display_name": "Python 3",
   "language": "python",
   "name": "python3"
  },
  "language_info": {
   "codemirror_mode": {
    "name": "ipython",
    "version": 3
   },
   "file_extension": ".py",
   "mimetype": "text/x-python",
   "name": "python",
   "nbconvert_exporter": "python",
   "pygments_lexer": "ipython3",
   "version": "3.7.10"
  }
 },
 "nbformat": 4,
 "nbformat_minor": 5
}
